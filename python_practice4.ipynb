{
  "nbformat": 4,
  "nbformat_minor": 0,
  "metadata": {
    "colab": {
      "provenance": []
    },
    "kernelspec": {
      "name": "python3",
      "display_name": "Python 3"
    },
    "language_info": {
      "name": "python"
    }
  },
  "cells": [
    {
      "cell_type": "markdown",
      "source": [
        "# I. Functions. Arguments."
      ],
      "metadata": {
        "id": "kXpppdVm6wFy"
      }
    },
    {
      "cell_type": "markdown",
      "source": [
        "1. (5б) Назвіть основні 4 смислові  частини, з яких складається функція."
      ],
      "metadata": {
        "id": "u_krJdlbAkVz"
      }
    },
    {
      "cell_type": "markdown",
      "source": [
        "оператор def; ім'я функції; тіло функції; те що повертає функція"
      ],
      "metadata": {
        "id": "KKTrTXmHAptb"
      }
    },
    {
      "cell_type": "markdown",
      "source": [
        "2. (3б) Визначте функцію, що приймає 2 аргументи та повертає результат ділення 1го аргумента на інший."
      ],
      "metadata": {
        "id": "ORM4PqJQAtDM"
      }
    },
    {
      "cell_type": "code",
      "execution_count": 19,
      "metadata": {
        "id": "EuDx-z8M6sLo"
      },
      "outputs": [],
      "source": [
        "def fun_division(arg1, arg2):\n",
        "    return arg1/arg2;"
      ]
    },
    {
      "cell_type": "markdown",
      "source": [
        "3. (2б) Викличте вище визначену функцію, де другий аргумент дорівнює 0."
      ],
      "metadata": {
        "id": "5joQGQ-SAyMe"
      }
    },
    {
      "cell_type": "code",
      "source": [
        "result = fun_division(8, 0);\n",
        "print(result);"
      ],
      "metadata": {
        "id": "V5cBV1LOA3d-",
        "colab": {
          "base_uri": "https://localhost:8080/",
          "height": 228
        },
        "outputId": "0ddb6c34-4585-4295-da05-4230b836e750"
      },
      "execution_count": 20,
      "outputs": [
        {
          "output_type": "error",
          "ename": "ZeroDivisionError",
          "evalue": "division by zero",
          "traceback": [
            "\u001b[0;31m---------------------------------------------------------------------------\u001b[0m",
            "\u001b[0;31mZeroDivisionError\u001b[0m                         Traceback (most recent call last)",
            "\u001b[0;32m<ipython-input-20-4574728b75d0>\u001b[0m in \u001b[0;36m<cell line: 0>\u001b[0;34m()\u001b[0m\n\u001b[0;32m----> 1\u001b[0;31m \u001b[0mresult\u001b[0m \u001b[0;34m=\u001b[0m \u001b[0mfun_division\u001b[0m\u001b[0;34m(\u001b[0m\u001b[0;36m8\u001b[0m\u001b[0;34m,\u001b[0m \u001b[0;36m0\u001b[0m\u001b[0;34m)\u001b[0m\u001b[0;34m;\u001b[0m\u001b[0;34m\u001b[0m\u001b[0;34m\u001b[0m\u001b[0m\n\u001b[0m\u001b[1;32m      2\u001b[0m \u001b[0mprint\u001b[0m\u001b[0;34m(\u001b[0m\u001b[0mresult\u001b[0m\u001b[0;34m)\u001b[0m\u001b[0;34m;\u001b[0m\u001b[0;34m\u001b[0m\u001b[0;34m\u001b[0m\u001b[0m\n",
            "\u001b[0;32m<ipython-input-19-766f7f64719b>\u001b[0m in \u001b[0;36mfun_division\u001b[0;34m(arg1, arg2)\u001b[0m\n\u001b[1;32m      1\u001b[0m \u001b[0;32mdef\u001b[0m \u001b[0mfun_division\u001b[0m\u001b[0;34m(\u001b[0m\u001b[0marg1\u001b[0m\u001b[0;34m,\u001b[0m \u001b[0marg2\u001b[0m\u001b[0;34m)\u001b[0m\u001b[0;34m:\u001b[0m\u001b[0;34m\u001b[0m\u001b[0;34m\u001b[0m\u001b[0m\n\u001b[0;32m----> 2\u001b[0;31m     \u001b[0;32mreturn\u001b[0m \u001b[0marg1\u001b[0m\u001b[0;34m/\u001b[0m\u001b[0marg2\u001b[0m\u001b[0;34m;\u001b[0m\u001b[0;34m\u001b[0m\u001b[0;34m\u001b[0m\u001b[0m\n\u001b[0m",
            "\u001b[0;31mZeroDivisionError\u001b[0m: division by zero"
          ]
        }
      ]
    },
    {
      "cell_type": "markdown",
      "source": [
        "4. (4б) Перевизначте функцію так, щоби у випадку ділення на 0 функція повертала None, а в решті випадків - результат розрахунків."
      ],
      "metadata": {
        "id": "QyimWgW8A43-"
      }
    },
    {
      "cell_type": "code",
      "source": [
        "def fun_division(arg1, arg2):\n",
        "  if arg2 == 0:\n",
        "    return None;\n",
        "  return arg1/arg2;"
      ],
      "metadata": {
        "id": "7VIODtSjA8Ek"
      },
      "execution_count": 21,
      "outputs": []
    },
    {
      "cell_type": "markdown",
      "source": [
        "5. (5б) Визначте функцію, що віднімає одне число від іншого (підказка: це буде 2 аргументи функції). При чому, якщо не визначити, скільки саме має бути віднято від числа, за замовчуванням має відніматися 1. Викличте функцію, передаючи тільки один аргумент."
      ],
      "metadata": {
        "id": "Y8mN0GfkA81l"
      }
    },
    {
      "cell_type": "code",
      "source": [
        "def fun_sub(arg1, arg2=None):\n",
        "  if arg2 == None:\n",
        "    return arg1 - 1;\n",
        "  else:\n",
        "    return arg1 - arg2;\n",
        "result = fun_sub(6);\n",
        "print(result);"
      ],
      "metadata": {
        "id": "vg1kxkdgBA50",
        "colab": {
          "base_uri": "https://localhost:8080/"
        },
        "outputId": "7fedef01-49ab-43ef-b046-8081bf98dc15"
      },
      "execution_count": 22,
      "outputs": [
        {
          "output_type": "stream",
          "name": "stdout",
          "text": [
            "5\n"
          ]
        }
      ]
    },
    {
      "cell_type": "markdown",
      "source": [
        "6. (7б) Визначте функцію, яка приймає iterable (ітерабельний обʼєкт, напр. список), що складається з 7ми рядкових значень - назв погодних умов (напр. \"sunny\") за кожен день у тижні. Повертає функція словник, де ключами є рядки з погодними умовами, а значеннями - кількість разів, скільки дана погода була протягом тижня (напр. {'sunny': 1, ...}). Викличте цю функцію та виведіть результат її роботи на екран."
      ],
      "metadata": {
        "id": "D3mwQGNOBBs4"
      }
    },
    {
      "cell_type": "code",
      "source": [
        "def count_weather_conditions(week_weather):\n",
        "    weather_counts = {}\n",
        "    for condition in week_weather:\n",
        "        weather_counts[condition] = weather_counts.get(condition, 0) + 1\n",
        "    return weather_counts\n",
        "\n",
        "week_weather = [\"sunny\", \"cloudy\", \"rainy\", \"sunny\", \"sunny\", \"rainy\", \"cloudy\"]\n",
        "result = count_weather_conditions(week_weather)\n",
        "\n",
        "print(result)"
      ],
      "metadata": {
        "id": "OsWm-hKcBFyn",
        "colab": {
          "base_uri": "https://localhost:8080/"
        },
        "outputId": "73e1fbe9-09f1-44b0-98ec-c5647166f1eb"
      },
      "execution_count": 23,
      "outputs": [
        {
          "output_type": "stream",
          "name": "stdout",
          "text": [
            "{'sunny': 3, 'cloudy': 2, 'rainy': 2}\n"
          ]
        }
      ]
    },
    {
      "cell_type": "markdown",
      "source": [
        "7. (15б) Напишіть програму, яка б шукала необхідне число у впорядкованому списку цілочислених значень, де\n",
        "число має вводитись з консолі.\n",
        "власне алгоритм пошуку винесений в окрему функцію, яка повертає булеве значення (знайдено число - True, не знайдено - False).\n",
        "в залежності від результату функції, виведіть на екран повідомлення про успішний або ж неуспішний пошук.\n",
        "Зауваження: використовувати оператор in заборонено."
      ],
      "metadata": {
        "id": "RMiCcdOsBKQT"
      }
    },
    {
      "cell_type": "code",
      "source": [
        "def number_binary_search(sorted_list, target):\n",
        "    left, right = 0, len(sorted_list) - 1\n",
        "\n",
        "    while left <= right:\n",
        "        mid = (left + right) // 2\n",
        "        if sorted_list[mid] == target:\n",
        "            return True\n",
        "        elif sorted_list[mid] < target:\n",
        "            left = mid + 1\n",
        "        else:\n",
        "            right = mid - 1\n",
        "    return False\n",
        "\n",
        "wanted_number = int(input(\"Enter a number to search for: \"))\n",
        "\n",
        "sorted_numbers = [1, 3, 5, 7, 9, 11, 13, 15, 17, 19]\n",
        "\n",
        "found = number_binary_search(sorted_numbers, wanted_number)\n",
        "\n",
        "if found:\n",
        "    print(\"Number is found!\")\n",
        "else:\n",
        "    print(\"Number is not found!\")\n"
      ],
      "metadata": {
        "id": "UNCZg65OBOy-",
        "colab": {
          "base_uri": "https://localhost:8080/"
        },
        "outputId": "ccc39deb-89cc-48f7-b089-f9185f9498ae"
      },
      "execution_count": 26,
      "outputs": [
        {
          "output_type": "stream",
          "name": "stdout",
          "text": [
            "Enter a number to search for: 4\n",
            "Number is not found!\n"
          ]
        }
      ]
    },
    {
      "cell_type": "markdown",
      "source": [
        "# II. Lambda functions."
      ],
      "metadata": {
        "id": "Ae1n_OvLBTsy"
      }
    },
    {
      "cell_type": "markdown",
      "source": [
        "8. (4б) В яких випадках варто використовувати лямбда-функції?"
      ],
      "metadata": {
        "id": "xaD_wSlaCWen"
      }
    },
    {
      "cell_type": "markdown",
      "source": [
        "найчастіше варто використовувати з вбудованими функціями"
      ],
      "metadata": {
        "id": "42MB6OoLCakR"
      }
    },
    {
      "cell_type": "markdown",
      "source": [
        "9. (9б) Визначте список з рядками. Після цього визначте анонімну функцію для отримання першого символу у верхньому регістрі для кожного рядка списку.\n",
        "Підказка: використовуйте анонімну функцію в якості агрумента до вбудованої ф-ції, яка створена для застосування функцій над iterable обʼєктами. Результат виведіть на екран у вигляді кортежу."
      ],
      "metadata": {
        "id": "USrzrk7GCedk"
      }
    },
    {
      "cell_type": "code",
      "source": [
        "words = [\"earth\", \"mercury\", \"venus\", \"mars\", \"jupiter\"]\n",
        "result = tuple(map(lambda word: word[0].upper(), words))\n",
        "print(result)"
      ],
      "metadata": {
        "id": "M8QWUsMlCjWH",
        "colab": {
          "base_uri": "https://localhost:8080/"
        },
        "outputId": "8c98c438-bb88-4f1d-eaf1-c556768ce020"
      },
      "execution_count": 27,
      "outputs": [
        {
          "output_type": "stream",
          "name": "stdout",
          "text": [
            "('E', 'M', 'V', 'M', 'J')\n"
          ]
        }
      ]
    },
    {
      "cell_type": "markdown",
      "source": [
        "10. (10б) Визначте список з числовими значеннями (і цілими, і з рухомою комою). а) Відфільтруйте всі числа, які діляться націло на 3 за допомогою вбудованої функції та анонімної функції в якості аргумента). Збережіть результат у змінній, не приводяти явно до будь-якого типу. б) Використовуючи результат на кроці 12.а у якості аргументу, та за допомогою лямбда-функції в якості іншого аргументу до вбудованої функції, додайте до кожного елементу число 1 та опісля зведіть у квадрат. Остаточний результат приведіть явно до списку та виведіть на екран."
      ],
      "metadata": {
        "id": "9fyUhXOoCtGp"
      }
    },
    {
      "cell_type": "code",
      "source": [
        "numbers = [1, 3, 4.5, 6, 9.0, 10, 12.6, 15, 18, 21.3, 25]\n",
        "filtered_numbers = filter(lambda num: num % 3 == 0, numbers)\n",
        "result = list(map(lambda num: (num + 1) ** 2, filtered_numbers))\n",
        "print(result)"
      ],
      "metadata": {
        "id": "exEx2_okCsql",
        "colab": {
          "base_uri": "https://localhost:8080/"
        },
        "outputId": "a5cfe506-4f9e-4647-c60a-b74994d9e16b"
      },
      "execution_count": 28,
      "outputs": [
        {
          "output_type": "stream",
          "name": "stdout",
          "text": [
            "[16, 49, 100.0, 256, 361]\n"
          ]
        }
      ]
    },
    {
      "cell_type": "markdown",
      "source": [
        "# III. Decorators."
      ],
      "metadata": {
        "id": "o_x8cG_WC7jp"
      }
    },
    {
      "cell_type": "markdown",
      "source": [
        "11. (11б) Визначте декоратор, який би виводив у консоль повідомлення про початок роботи і назву функції (напр. my_function._ _ name _ _), а після відпрацювання функції - повідомлення про закінчення роботи і назву функції, що задекорована."
      ],
      "metadata": {
        "id": "mhxS4-mfC8LQ"
      }
    },
    {
      "cell_type": "code",
      "source": [
        "def my_decorator(func):\n",
        "    def wrapper():\n",
        "        print(f\"Starting function: {func.__name__}\")\n",
        "        result = func()\n",
        "        print(f\"Ending function: {func.__name__}\")\n",
        "        return result\n",
        "    return wrapper\n",
        "\n",
        "@my_decorator\n",
        "def my_function():\n",
        "    print(\"Function is running...\")\n",
        "\n",
        "my_function()\n"
      ],
      "metadata": {
        "id": "srd1ygWjDGhO",
        "colab": {
          "base_uri": "https://localhost:8080/"
        },
        "outputId": "a62c721a-ebf0-4c9b-c5c1-2ea4a570cefd"
      },
      "execution_count": 29,
      "outputs": [
        {
          "output_type": "stream",
          "name": "stdout",
          "text": [
            "Starting function: my_function\n",
            "Function is running...\n",
            "Ending function: my_function\n"
          ]
        }
      ]
    },
    {
      "cell_type": "markdown",
      "source": [
        "12. (4б) Задекоруйте двома різними способами функції з завдання 4 та 5 декоратором із завдання 11. (**УВАГА**: не декоруйте функції двічі!)."
      ],
      "metadata": {
        "id": "rxGZwVBiDph3"
      }
    },
    {
      "cell_type": "code",
      "source": [
        "def my_decorator(func):\n",
        "    def wrapper(*args, **kwargs):\n",
        "        print(f\"Starting function: {func.__name__}\")\n",
        "        result = func(*args, **kwargs)\n",
        "        print(f\"Ending function: {func.__name__}\")\n",
        "        return result\n",
        "    return wrapper\n",
        "\n",
        "\n",
        "@my_decorator\n",
        "def fun_division(arg1, arg2):\n",
        "    if arg2 == 0:\n",
        "        return None\n",
        "    return arg1 / arg2\n",
        "\n",
        "\n",
        "def fun_sub(arg1, arg2=None):\n",
        "    if arg2 is None:\n",
        "        return arg1 - 1\n",
        "    else:\n",
        "        return arg1 - arg2\n",
        "\n",
        "fun_sub = my_decorator(fun_sub)\n",
        "\n"
      ],
      "metadata": {
        "id": "06lj7eq_DwZe"
      },
      "execution_count": 30,
      "outputs": []
    },
    {
      "cell_type": "markdown",
      "source": [
        "13. (2б) Викличте одну з задекорованих функцій і виведіть її результат на екран."
      ],
      "metadata": {
        "id": "P0ep1urBDzf-"
      }
    },
    {
      "cell_type": "code",
      "source": [
        "print(fun_division(10, 2))"
      ],
      "metadata": {
        "id": "1QvTw0ctD0S3",
        "colab": {
          "base_uri": "https://localhost:8080/"
        },
        "outputId": "9c67497b-6115-4af7-bf5f-ef88c1d3d741"
      },
      "execution_count": 31,
      "outputs": [
        {
          "output_type": "stream",
          "name": "stdout",
          "text": [
            "Starting function: fun_division\n",
            "Ending function: fun_division\n",
            "5.0\n"
          ]
        }
      ]
    },
    {
      "cell_type": "markdown",
      "source": [
        "# IV. Recursion."
      ],
      "metadata": {
        "id": "poECCpuoD2S9"
      }
    },
    {
      "cell_type": "markdown",
      "source": [
        "14. (4б) Назвіть дві частини функції, які є обовʼязковими для того, щоб називати її рекурсивною."
      ],
      "metadata": {
        "id": "DqkURfdsD7MY"
      }
    },
    {
      "cell_type": "markdown",
      "source": [
        "1. умова зупину, стандартний випадок 2. рекурсивний випадок, який наближає програму до стандартного випадку"
      ],
      "metadata": {
        "id": "HYW6ttIeIQIU"
      }
    },
    {
      "cell_type": "markdown",
      "source": [
        "15. (15б) Визначте функцію, яка рекурсивно реалізовує пошук числа у послідовності Фібоначчі за її індексом (нумерація починається з нуля). Наприклад, потрібно знайти перше число у послідовності, тоді функція прийматиме 0 у якості аргумента і повертатиме 1, якщо ж знаходити третє число (індекс 2) послідовності, то функція повертатиме 2, якщо ж знаходити десяте число (індекс 9), то функція повертатиме 55."
      ],
      "metadata": {
        "id": "WYVt20UmEA35"
      }
    },
    {
      "cell_type": "code",
      "source": [
        "def fibonacci(n):\n",
        "    if n == 0:\n",
        "        return 1\n",
        "    elif n == 1:\n",
        "        return 1\n",
        "    else:\n",
        "        return fibonacci(n - 1) + fibonacci(n - 2)\n",
        "\n",
        "print(fibonacci(0))\n",
        "print(fibonacci(2))\n",
        "print(fibonacci(9))\n"
      ],
      "metadata": {
        "id": "xIMhp05AIpV_",
        "colab": {
          "base_uri": "https://localhost:8080/"
        },
        "outputId": "a11c8a4e-d4ad-4a13-b516-7bef9ba7ad69"
      },
      "execution_count": 32,
      "outputs": [
        {
          "output_type": "stream",
          "name": "stdout",
          "text": [
            "1\n",
            "2\n",
            "55\n"
          ]
        }
      ]
    },
    {
      "cell_type": "markdown",
      "source": [
        "# Вітаю! Ви велика(ий) молодець, що впоралась(вся). Похваліть себе та побалуйте чимось приємним. Я Вами пишаюся."
      ],
      "metadata": {
        "id": "ytXC8n_4Ip0W"
      }
    }
  ]
}