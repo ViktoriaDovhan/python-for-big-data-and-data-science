{
  "nbformat": 4,
  "nbformat_minor": 0,
  "metadata": {
    "colab": {
      "provenance": []
    },
    "kernelspec": {
      "name": "python3",
      "display_name": "Python 3"
    },
    "language_info": {
      "name": "python"
    }
  },
  "cells": [
    {
      "cell_type": "markdown",
      "source": [
        "# I. OOP"
      ],
      "metadata": {
        "id": "5qV_sehzFCTp"
      }
    },
    {
      "cell_type": "markdown",
      "source": [
        "1. (6б). Створіть клас Building, додайте три атрибути, один з яких має значення за замовчуванням та два методи на свій розсуд."
      ],
      "metadata": {
        "id": "tx_U_hOALyfg"
      }
    },
    {
      "cell_type": "code",
      "source": [
        "class Building:\n",
        "    def __init__(self, floors, price, type_of_building = \"office\"):\n",
        "        # Initialize the building with the number of floors, price, and type of building\n",
        "        self.floors = floors;\n",
        "        self.price = price;\n",
        "        self.type_of_building = type_of_building;\n",
        "\n",
        "    def __str__(self):\n",
        "        # Return a string representation of the building with its details\n",
        "        return f\"The building has {self.floors} floors. It costs {self.price}. And it is intended for {self.type_of_building}\";\n",
        "\n",
        "    def price_increase(self, how_much):\n",
        "        # Increase the price of the building by the specified amount\n",
        "        self.price += how_much;\n",
        "        return None;\n",
        "\n",
        "    def more_floors(self, amount):\n",
        "        # Increase the number of floors of the building by the specified amount\n",
        "        self.floors += amount;\n",
        "        return None;\n"
      ],
      "metadata": {
        "id": "-Vf895KaL88N"
      },
      "execution_count": 29,
      "outputs": []
    },
    {
      "cell_type": "markdown",
      "source": [
        "\n",
        "\n",
        "2. (2б). Створіть два обʼєкти цього класу, де один з обʼєктів створюється із дефолтним значенням атрибуту. На одному обʼєкті отримайте значення його атрибуту, а на іншому викличте один з його методів."
      ],
      "metadata": {
        "id": "X_UlOMB0L93w"
      }
    },
    {
      "cell_type": "code",
      "source": [
        "office = Building(5, 100000); # Create an office building with 5 floors and a price of 100000\n",
        "office.price_increase(20000); # Increase the price of the office building by 20000\n",
        "print(office); # Print the details of the office building\n",
        "print(office);# Print the details of the office building again\n",
        "residential = Building(9, 150000, \"residential\"); # Create a residential building with 9 floors, a price of 150000, and type \"residential\"\n",
        "print(f\"Type of second building: {residential.type_of_building}\"); # Print the type of the second building (residential)\n"
      ],
      "metadata": {
        "id": "7gBu0ESOMCpG",
        "colab": {
          "base_uri": "https://localhost:8080/"
        },
        "outputId": "96728b3d-81c7-4d87-8918-ccfc3b0951ca"
      },
      "execution_count": 30,
      "outputs": [
        {
          "output_type": "stream",
          "name": "stdout",
          "text": [
            "The building has 5 floors. It costs 120000. And it is intended for office\n",
            "The building has 5 floors. It costs 120000. And it is intended for office\n",
            "Type of second building: residential\n"
          ]
        }
      ]
    },
    {
      "cell_type": "markdown",
      "source": [
        "3. (5б). Створіть клас, де атрибути мають різні рівні доступу. Спробуйте отримати їхні значення та опишіть результати."
      ],
      "metadata": {
        "id": "HoqSCZt1MHn5"
      }
    },
    {
      "cell_type": "code",
      "source": [
        "class Country:\n",
        "    def __init__(self, name, _population, __area):\n",
        "        # Initialize the country with its name, population, and area\n",
        "        self.name = name;  # Public attribute: name of the country\n",
        "        self._population = _population;  # Protected attribute: population of the country\n",
        "        self.__area = __area;  # Private attribute: area of the country\n",
        "\n",
        "# Create an instance of the Country class\n",
        "Ukraine = Country(\"Ukraine\", 37000000, 603628);\n",
        "\n",
        "# Access and print the public attribute 'name'\n",
        "print(Ukraine.name);\n",
        "\n",
        "# Access and print the protected attribute '_population'\n",
        "print(Ukraine._population);\n",
        "\n",
        "# Try to access and print the private attribute '__area' directly (this will raise an error)\n",
        "print(Ukraine.__area);"
      ],
      "metadata": {
        "id": "r9b3vJxBMSPV",
        "colab": {
          "base_uri": "https://localhost:8080/",
          "height": 211
        },
        "outputId": "26e5f13b-3e10-46f8-913d-034d39a22cb6"
      },
      "execution_count": 27,
      "outputs": [
        {
          "output_type": "stream",
          "name": "stdout",
          "text": [
            "Ukraine\n",
            "37000000\n"
          ]
        },
        {
          "output_type": "error",
          "ename": "AttributeError",
          "evalue": "'Country' object has no attribute '__area'",
          "traceback": [
            "\u001b[0;31m---------------------------------------------------------------------------\u001b[0m",
            "\u001b[0;31mAttributeError\u001b[0m                            Traceback (most recent call last)",
            "\u001b[0;32m<ipython-input-27-0fefd8357fdd>\u001b[0m in \u001b[0;36m<cell line: 0>\u001b[0;34m()\u001b[0m\n\u001b[1;32m     16\u001b[0m \u001b[0;34m\u001b[0m\u001b[0m\n\u001b[1;32m     17\u001b[0m \u001b[0;31m# Try to access and print the private attribute '__area' directly (this will raise an error)\u001b[0m\u001b[0;34m\u001b[0m\u001b[0;34m\u001b[0m\u001b[0m\n\u001b[0;32m---> 18\u001b[0;31m \u001b[0mprint\u001b[0m\u001b[0;34m(\u001b[0m\u001b[0mUkraine\u001b[0m\u001b[0;34m.\u001b[0m\u001b[0m__area\u001b[0m\u001b[0;34m)\u001b[0m\u001b[0;34m;\u001b[0m\u001b[0;34m\u001b[0m\u001b[0;34m\u001b[0m\u001b[0m\n\u001b[0m",
            "\u001b[0;31mAttributeError\u001b[0m: 'Country' object has no attribute '__area'"
          ]
        }
      ]
    },
    {
      "cell_type": "markdown",
      "source": [
        "Коли ми спробували отримати значення змінни public рівня доступу, то нам дозволили це без проблем. Так само і з змінною protected рівня доступу. Але зі змінною private в нас виникла помилка, оскільки поза класом цю змінну не можна отримати просто так."
      ],
      "metadata": {
        "id": "TW0rm5_dxxvR"
      }
    },
    {
      "cell_type": "markdown",
      "source": [
        "4. (7б). Як ви розумієте термін self? Для чого використовується метод __init __?"
      ],
      "metadata": {
        "id": "5op2m2vgMSkZ"
      }
    },
    {
      "cell_type": "markdown",
      "source": [
        "Self - це обов'язковий аргумент, який є вказівником на сам об'єкт, і він містить в собі інформацію про об'єкт, на який посилається, та інформацію про методи які в нього є. Метод __init__ використовується для заповнення об'єкта першопочатковим станом(даними)."
      ],
      "metadata": {
        "id": "DyiPqNRvMasx"
      }
    },
    {
      "cell_type": "markdown",
      "source": [
        "5. (9б). Створіть клас 3D-фігура без атрибутів, з методом get_volume для отримання об'єму фігури, що повертає 0 та __add __, який приймає self та other в якості аргументів, а повертає суму об'ємів 3d-фігур self та other."
      ],
      "metadata": {
        "id": "-6X8EGfjMd2y"
      }
    },
    {
      "cell_type": "code",
      "source": [
        "class Figure3D:\n",
        "    def get_volume(self):\n",
        "        # This method returns the volume of the 3D figure (0 by default)\n",
        "        return 0\n",
        "\n",
        "    def __add__(self, other):\n",
        "        # This method allows the addition of two 3D figures' volumes\n",
        "        return self.get_volume() + other.get_volume();\n"
      ],
      "metadata": {
        "id": "4rvO_wYUMaEr"
      },
      "execution_count": 25,
      "outputs": []
    },
    {
      "cell_type": "markdown",
      "source": [
        "6. (11б). Створіть 2 дочірніх класи від 3d-фігура: Циліндр та Куб, які мають атрибути, необхідні для розрахунку об'єму. Визначте метод get_volume в кожному з них так, щоби вони розраховували об'єм у залежності від формули для кожного типу фігури. Створіть обʼєкт класу Циліндр та обʼєкт класу Куб. Виконайте операцію суми за допомогою оператора + між ними, аби знайти сумарний об'єм."
      ],
      "metadata": {
        "id": "SFcKnnv5Mo_z"
      }
    },
    {
      "cell_type": "code",
      "source": [
        "import math\n",
        "\n",
        "# Define a class for Cylinder that inherits from Figure3D\n",
        "class Cylinder(Figure3D):\n",
        "    def __init__(self, radius, height):\n",
        "        # Initialize the cylinder with radius and height\n",
        "        self.radius = radius;\n",
        "        self.height = height;\n",
        "\n",
        "    def get_volume(self):\n",
        "        # Calculate the volume of the cylinder using the formula: π * r^2 * h\n",
        "        return math.pi * self.radius**2 * self.height;\n",
        "\n",
        "# Define a class for Cube that inherits from Figure3D\n",
        "class Cube(Figure3D):\n",
        "    def __init__(self, side):\n",
        "        # Initialize the cube with side length\n",
        "        self.side = side;\n",
        "\n",
        "    def get_volume(self):\n",
        "        # Calculate the volume of the cube using the formula: side^3\n",
        "        return self.side ** 3;\n",
        "\n",
        "# Create a Cylinder object with radius 5 and height 7\n",
        "cylinder = Cylinder(5, 7);\n",
        "\n",
        "# Create a Cube object with side length 7\n",
        "cube = Cube(7);\n",
        "\n",
        "# Calculate the total volume by adding the cylinder's and cube's volumes\n",
        "total_volume = cylinder + cube;\n",
        "\n",
        "# Print the volume of the cylinder\n",
        "print(f\"Cylinder's volume: {cylinder.get_volume():.2f}\");\n",
        "\n",
        "# Print the volume of the cube\n",
        "print(f\"Cube's volume: {cube.get_volume()}\");\n",
        "\n",
        "# Print the total volume of both the cylinder and the cube\n",
        "print(f\"Total volume: {total_volume:.2f}\");\n"
      ],
      "metadata": {
        "id": "H3GVNr69Muf3",
        "colab": {
          "base_uri": "https://localhost:8080/"
        },
        "outputId": "83cbfa05-2e64-4048-a97a-4aacfb28fceb"
      },
      "execution_count": 26,
      "outputs": [
        {
          "output_type": "stream",
          "name": "stdout",
          "text": [
            "Cylinder's volume: 549.78\n",
            "Cube's volume: 343\n",
            "Total volume: 892.78\n"
          ]
        }
      ]
    },
    {
      "cell_type": "markdown",
      "source": [
        "7. (3б). Продемонструйте різницю між isinstance та issubclass."
      ],
      "metadata": {
        "id": "HCvR206YMvLK"
      }
    },
    {
      "cell_type": "code",
      "source": [
        "# Base class for all magical items\n",
        "class MagicalItem:\n",
        "    pass\n",
        "\n",
        "# Wand is a subclass of MagicalItem\n",
        "class Wand(MagicalItem):\n",
        "    pass\n",
        "\n",
        "# SpellBook is a subclass of MagicalItem\n",
        "class SpellBook(MagicalItem):\n",
        "    pass\n",
        "\n",
        "# Potion is a separate class and not a subclass of MagicalItem\n",
        "class Potion:\n",
        "    pass\n",
        "\n",
        "# Create instances of Wand, SpellBook, and Potion\n",
        "elder_wand = Wand();\n",
        "dark_grimoire = SpellBook();\n",
        "healing_potion = Potion();\n",
        "\n",
        "# Check if elder_wand is an instance of Wand\n",
        "print(isinstance(elder_wand, Wand));\n",
        "\n",
        "# Check if elder_wand is an instance of MagicalItem\n",
        "print(isinstance(elder_wand, MagicalItem));\n",
        "\n",
        "# Check if dark_grimoire is an instance of MagicalItem\n",
        "print(isinstance(dark_grimoire, MagicalItem));\n",
        "\n",
        "# Check if healing_potion is an instance of MagicalItem\n",
        "print(isinstance(healing_potion, MagicalItem));\n",
        "\n",
        "# Check if Wand is a subclass of MagicalItem\n",
        "print(issubclass(Wand, MagicalItem));\n",
        "\n",
        "# Check if SpellBook is a subclass of MagicalItem\n",
        "print(issubclass(SpellBook, MagicalItem));\n",
        "\n",
        "# Check if Potion is a subclass of MagicalItem\n",
        "print(issubclass(Potion, MagicalItem));\n",
        "\n",
        "# Check if Wand is a subclass of SpellBook\n",
        "print(issubclass(Wand, SpellBook));\n",
        "\n",
        "# Check if Wand is a subclass of itself =\n",
        "print(issubclass(Wand, Wand));\n"
      ],
      "metadata": {
        "id": "L_V1bBvDM0GN"
      },
      "execution_count": null,
      "outputs": []
    },
    {
      "cell_type": "markdown",
      "source": [
        "8. (13б). Створіть клас EWallet з приватними атрибутами balance та id. Реалізуйте методи поповнення та зняття коштів, забезпечивши належну інкапсуляцію. Підказка: використовуйте декоратори property та setter."
      ],
      "metadata": {
        "id": "jjsaBZ-iM0Qq"
      }
    },
    {
      "cell_type": "code",
      "source": [
        "class EWallet:\n",
        "    # Initialize wallet with ID and an optional initial balance (default is 0)\n",
        "    def __init__(self, wallet_id, initial_balance=0):\n",
        "        self.__id = wallet_id;  # Private attribute for wallet ID\n",
        "        self.__balance = initial_balance;  # Private attribute for wallet balance\n",
        "\n",
        "    # Property to get the balance\n",
        "    @property\n",
        "    def balance(self):\n",
        "        return self.__balance;\n",
        "\n",
        "    # Setter for balance: allows only non-negative amounts\n",
        "    @balance.setter\n",
        "    def balance(self, amount):\n",
        "        if amount >= 0:\n",
        "            self.__balance = amount;\n",
        "            print(f\"Balance updated: {self.__balance}\");\n",
        "        else:\n",
        "            print(\"Balance cannot be negative!\");  # If negative amount is assigned, show error\n",
        "\n",
        "    # Property to get wallet ID (read-only, cannot be modified directly)\n",
        "    @property\n",
        "    def wallet_id(self):\n",
        "        return self.__id;\n",
        "\n",
        "    # Method to deposit money into the wallet\n",
        "    def deposit(self, amount):\n",
        "        if amount > 0:\n",
        "            self.balance += amount;  # Uses setter to add amount to balance\n",
        "        else:\n",
        "            print(\"Deposit amount must be greater than 0!\");  # Error message for invalid deposit\n",
        "\n",
        "    # Method to withdraw money from the wallet\n",
        "    def withdraw(self, amount):\n",
        "        if 0 < amount <= self.__balance:\n",
        "            self.balance -= amount;  # Uses setter to subtract amount from balance\n",
        "        else:\n",
        "            print(\"Insufficient funds or invalid amount!\");  # Error message for insufficient funds or invalid amount\n",
        "\n",
        "# Create an EWallet object with ID \"B147\" and an initial balance of 1000\n",
        "wallet = EWallet(\"B147\", 1000);\n",
        "\n",
        "# Print the wallet's ID and current balance\n",
        "print(f\"Wallet ID: {wallet.wallet_id}\");\n",
        "print(f\"Current balance: {wallet.balance}\");\n",
        "\n",
        "# Deposit 500 into the wallet\n",
        "wallet.deposit(500);\n",
        "\n",
        "# Withdraw 300 from the wallet\n",
        "wallet.withdraw(300);\n",
        "\n",
        "# Try to withdraw 500\n",
        "wallet.withdraw(500);\n",
        "\n",
        "# Change the balance directly using the setter\n",
        "wallet.balance = 200;\n",
        "\n",
        "# Try to set a negative balance (should show an error)\n",
        "wallet.balance = -50;\n",
        "\n",
        "# Print the final balance\n",
        "print(f\"Final balance: {wallet.balance}\");\n"
      ],
      "metadata": {
        "id": "xCvZ7lh8M7YA",
        "colab": {
          "base_uri": "https://localhost:8080/"
        },
        "outputId": "c48a9e87-6bf4-41d2-d1eb-73ffbb2364c1"
      },
      "execution_count": 23,
      "outputs": [
        {
          "output_type": "stream",
          "name": "stdout",
          "text": [
            "Wallet ID: B147\n",
            "Current balance: 1000\n",
            "Balance updated: 1500\n",
            "Balance updated: 1200\n",
            "Balance updated: 700\n",
            "Balance updated: 200\n",
            "Balance cannot be negative!\n",
            "Final balance: 200\n"
          ]
        }
      ]
    },
    {
      "cell_type": "markdown",
      "source": [
        "9. (11б). Створіть клас ShoppingCart, який містить список об'єктів типу Item. Реалізуйте методи для додавання айтемів, їх видалення та відображення списку айтемів."
      ],
      "metadata": {
        "id": "tIzL2SJTM8ft"
      }
    },
    {
      "cell_type": "code",
      "source": [
        "class Item:\n",
        "    # Initialize an item with a name and price\n",
        "    def __init__(self, name, price):\n",
        "        self.name = name;  # Item's name\n",
        "        self.price = price;  # Item's price\n",
        "\n",
        "    # String representation of the item, for easy display\n",
        "    def __str__(self):\n",
        "        return f\"{self.name}: ${self.price:.2f}\";\n",
        "\n",
        "class ShoppingCart:\n",
        "    # Initialize an empty shopping cart\n",
        "    def __init__(self):\n",
        "        self.items = [];  # List to store items in the cart\n",
        "\n",
        "    # Method to add an item to the cart\n",
        "    def add_item(self, item):\n",
        "        self.items.append(item);  # Add item to the list\n",
        "        print(f\"{item.name} added to the cart.\");  # Print confirmation message\n",
        "\n",
        "    # Method to remove an item by its name\n",
        "    def remove_item(self, item_name):\n",
        "        for item in self.items:  # Loop through the list of items in the cart\n",
        "            if item.name == item_name:  # If the item is found by name\n",
        "                self.items.remove(item);  # Remove the item from the cart\n",
        "                print(f\"{item.name} removed from the cart.\");  # Print confirmation message\n",
        "                return;\n",
        "        print(\"Item not found in the cart.\");  # If the item is not found, show an error message\n",
        "\n",
        "    # Method to display the list of items in the cart\n",
        "    def display_cart(self):\n",
        "        if not self.items:  # If the cart is empty\n",
        "            print(\"The cart is empty.\");  # Print empty cart message\n",
        "        else:\n",
        "            print(\"Shopping Cart:\");  # Print cart header\n",
        "            for item in self.items:  # Loop through the items in the cart\n",
        "                print(f\" - {item}\");  # Print each item using the __str__ method of the Item class\n",
        "\n",
        "# Create an instance of the ShoppingCart class\n",
        "cart = ShoppingCart();\n",
        "\n",
        "# Create some items to add to the cart\n",
        "item1 = Item(\"Laptop\", 45000);\n",
        "item2 = Item(\"Phone\", 20000);\n",
        "item3 = Item(\"Headphones\", 3000);\n",
        "\n",
        "# Add items to the cart\n",
        "cart.add_item(item1);\n",
        "cart.add_item(item2);\n",
        "cart.add_item(item3);\n",
        "\n",
        "# Display the cart contents\n",
        "cart.display_cart();\n",
        "\n",
        "# Remove an item from the cart by its name\n",
        "cart.remove_item(\"Phone\");\n",
        "\n",
        "# Display the updated cart contents\n",
        "cart.display_cart();\n"
      ],
      "metadata": {
        "id": "HWxfJKLtNAUZ",
        "colab": {
          "base_uri": "https://localhost:8080/"
        },
        "outputId": "e9c53f83-a876-40c1-8e0f-6a60cbb4835f"
      },
      "execution_count": 22,
      "outputs": [
        {
          "output_type": "stream",
          "name": "stdout",
          "text": [
            "Laptop added to the cart.\n",
            "Phone added to the cart.\n",
            "Headphones added to the cart.\n",
            "Shopping Cart:\n",
            " - Laptop: $45000.00\n",
            " - Phone: $20000.00\n",
            " - Headphones: $3000.00\n",
            "Phone removed from the cart.\n",
            "Shopping Cart:\n",
            " - Laptop: $45000.00\n",
            " - Headphones: $3000.00\n"
          ]
        }
      ]
    },
    {
      "cell_type": "markdown",
      "source": [
        "10. (13б). Створіть клас Vehicle з атрибутами brand (manufacturer) та production_age. Створіть ще один клас Engine з такими атрибутами, як type (ex. petrol) та size (volume, litres). Створіть клас Car, який успадковує обидва класи Vehicle та Engine. Продемонструйте використання множинної спадковості, створивши обʼєкт класу Car та отримавши mro для цього класу."
      ],
      "metadata": {
        "id": "lmV8pAwwNIqu"
      }
    },
    {
      "cell_type": "code",
      "source": [
        "class Vehicle:\n",
        "    # Initialize the vehicle with brand and production age\n",
        "    def __init__(self, brand, production_age):\n",
        "        self.brand = brand;  # Brand of the vehicle\n",
        "        self.production_age = production_age;  # Production age of the vehicle (years)\n",
        "\n",
        "class Engine:\n",
        "    # Initialize the engine with engine type and size\n",
        "    def __init__(self, engine_type, size):\n",
        "        self.engine_type = engine_type;  # Type of the engine\n",
        "        self.size = size;  # Size of the engine\n",
        "\n",
        "class Car(Vehicle, Engine):\n",
        "    # Initialize the car by inheriting attributes from Vehicle and Engine classes\n",
        "    def __init__(self, brand, production_age, engine_type, size, model):\n",
        "        Vehicle.__init__(self, brand, production_age);  # Initialize the Vehicle part\n",
        "        Engine.__init__(self, engine_type, size);  # Initialize the Engine part\n",
        "        self.model = model;  # Model of the car\n",
        "\n",
        "    # String representation of the car, showing its full details\n",
        "    def __str__(self):\n",
        "        return (f\"Car: {self.brand} {self.model}, {self.production_age} years old, Engine: {self.engine_type}, {self.size}L\");\n",
        "\n",
        "# Create an instance of the Car class\n",
        "my_car = Car(\"Toyota\", 5, \"Petrol\", 2.0, \"Corolla\");\n",
        "\n",
        "# Print the details of the car\n",
        "print(my_car);\n",
        "\n",
        "# Print the mro for the Car class to show the order in which methods are inherited\n",
        "print(Car.mro());\n"
      ],
      "metadata": {
        "id": "R49grKlWNPeN",
        "colab": {
          "base_uri": "https://localhost:8080/"
        },
        "outputId": "177c6d85-5e8d-41bb-f160-53136d279282"
      },
      "execution_count": 21,
      "outputs": [
        {
          "output_type": "stream",
          "name": "stdout",
          "text": [
            "Car: Toyota Corolla, 5 years old, Engine: Petrol, 2.0L\n",
            "[<class '__main__.Car'>, <class '__main__.Vehicle'>, <class '__main__.Engine'>, <class 'object'>]\n"
          ]
        }
      ]
    },
    {
      "cell_type": "markdown",
      "source": [
        "# II. Iterator"
      ],
      "metadata": {
        "id": "dIJyUiNBFG8G"
      }
    },
    {
      "cell_type": "markdown",
      "source": [
        "11. (4б). Визначте рядок(str) з 4ма різними за значенням символами. Створіть ітератор на основі цього рядка. Викличте 5 разів функцію next на ітераторі, 4ри перших з них огорніть у ф-цію print()."
      ],
      "metadata": {
        "id": "13vsm0NyKIzL"
      }
    },
    {
      "cell_type": "code",
      "source": [
        "# Creating a string\n",
        "my_str = \"h5j7\";\n",
        "\n",
        "# Creating an iterator for the string\n",
        "my_str_iter = iter(my_str);\n",
        "\n",
        "# Printing the first character\n",
        "print(next(my_str_iter));\n",
        "\n",
        "# Printing the second character\n",
        "print(next(my_str_iter));\n",
        "\n",
        "# Printing the third character\n",
        "print(next(my_str_iter));\n",
        "\n",
        "# Printing the fourth character\n",
        "print(next(my_str_iter));\n",
        "\n",
        "# Calling next again will raise a StopIteration error, as all elements of the string have been processed\n",
        "next(my_str_iter)\n"
      ],
      "metadata": {
        "id": "81ntabAkKuz-",
        "colab": {
          "base_uri": "https://localhost:8080/",
          "height": 245
        },
        "outputId": "3a7ed97e-c578-4d5c-ae41-15e9cb660d7b"
      },
      "execution_count": 20,
      "outputs": [
        {
          "output_type": "stream",
          "name": "stdout",
          "text": [
            "h\n",
            "5\n",
            "j\n",
            "7\n"
          ]
        },
        {
          "output_type": "error",
          "ename": "StopIteration",
          "evalue": "",
          "traceback": [
            "\u001b[0;31m---------------------------------------------------------------------------\u001b[0m",
            "\u001b[0;31mStopIteration\u001b[0m                             Traceback (most recent call last)",
            "\u001b[0;32m<ipython-input-20-bf935ba638f6>\u001b[0m in \u001b[0;36m<cell line: 0>\u001b[0;34m()\u001b[0m\n\u001b[1;32m     18\u001b[0m \u001b[0;34m\u001b[0m\u001b[0m\n\u001b[1;32m     19\u001b[0m \u001b[0;31m# Calling next again will raise a StopIteration error, as all elements of the string have been processed\u001b[0m\u001b[0;34m\u001b[0m\u001b[0;34m\u001b[0m\u001b[0m\n\u001b[0;32m---> 20\u001b[0;31m \u001b[0mnext\u001b[0m\u001b[0;34m(\u001b[0m\u001b[0mmy_str_iter\u001b[0m\u001b[0;34m)\u001b[0m\u001b[0;34m\u001b[0m\u001b[0;34m\u001b[0m\u001b[0m\n\u001b[0m",
            "\u001b[0;31mStopIteration\u001b[0m: "
          ]
        }
      ]
    },
    {
      "cell_type": "markdown",
      "source": [
        "А що якщо викликати цю ж функцію на рядку?"
      ],
      "metadata": {
        "id": "aekWHGXOLRsO"
      }
    },
    {
      "cell_type": "code",
      "source": [
        "# Trying to use next on the string directly\n",
        "print(next(my_str));\n"
      ],
      "metadata": {
        "id": "mxATGsErLV1i",
        "colab": {
          "base_uri": "https://localhost:8080/",
          "height": 158
        },
        "outputId": "3123ae5e-a3dd-4bcb-e515-c982d0f9b375"
      },
      "execution_count": 19,
      "outputs": [
        {
          "output_type": "error",
          "ename": "TypeError",
          "evalue": "'str' object is not an iterator",
          "traceback": [
            "\u001b[0;31m---------------------------------------------------------------------------\u001b[0m",
            "\u001b[0;31mTypeError\u001b[0m                                 Traceback (most recent call last)",
            "\u001b[0;32m<ipython-input-19-db3159b30a39>\u001b[0m in \u001b[0;36m<cell line: 0>\u001b[0;34m()\u001b[0m\n\u001b[1;32m      1\u001b[0m \u001b[0;31m# Trying to use next on the string directly\u001b[0m\u001b[0;34m\u001b[0m\u001b[0;34m\u001b[0m\u001b[0m\n\u001b[0;32m----> 2\u001b[0;31m \u001b[0mprint\u001b[0m\u001b[0;34m(\u001b[0m\u001b[0mnext\u001b[0m\u001b[0;34m(\u001b[0m\u001b[0mmy_str\u001b[0m\u001b[0;34m)\u001b[0m\u001b[0;34m)\u001b[0m\u001b[0;34m;\u001b[0m\u001b[0;34m\u001b[0m\u001b[0;34m\u001b[0m\u001b[0m\n\u001b[0m",
            "\u001b[0;31mTypeError\u001b[0m: 'str' object is not an iterator"
          ]
        }
      ]
    },
    {
      "cell_type": "markdown",
      "source": [
        " 12. (5б). Опишіть своїми словами в одному реченні, як ви розумієте різницю між ітерабельними обʼєктами та ітераторами (можна на прикладі)."
      ],
      "metadata": {
        "id": "XwtMEopwJ4pH"
      }
    },
    {
      "cell_type": "markdown",
      "source": [
        "Ітерабельний об'єкт це об'єкт по якому ми можемо пройтись циклом або ж створити з нього ітератор, а ітератори реалізують методи за допомогою, яких ми можемо по черзі отримувати елементи об'єкта."
      ],
      "metadata": {
        "id": "-sHrODc3KFn8"
      }
    },
    {
      "cell_type": "markdown",
      "source": [
        "13. (11б). Створіть клас, що має визначений Iterator Protocol та при кожному виклику next повертає назву дня тижня, поки вони не вичерпаються. Зверніть увагу, що порядок має значення."
      ],
      "metadata": {
        "id": "E9qJWmNbK8Gl"
      }
    },
    {
      "cell_type": "code",
      "source": [
        "# Creating a custom iterator for the weekdays\n",
        "class WeekDaysIterator:\n",
        "    def __init__(self):\n",
        "        # List of days of the week\n",
        "        self.days = [\"Monday\", \"Tuesday\", \"Wednesday\", \"Thursday\", \"Friday\", \"Saturday\", \"Sunday\"];\n",
        "        # Index to track the current day\n",
        "        self.index = 0;\n",
        "\n",
        "    # Making the object an iterable\n",
        "    def __iter__(self):\n",
        "        return self;\n",
        "\n",
        "    # Defining the next() method to return the next day of the week\n",
        "    def __next__(self):\n",
        "        if self.index < len(self.days):\n",
        "            # Getting the current day based on the index\n",
        "            day = self.days[self.index];\n",
        "            # Moving to the next day\n",
        "            self.index += 1;\n",
        "            return day;\n",
        "        else:\n",
        "            # If all days are returned, raise StopIteration to end the iteration\n",
        "            raise StopIteration;\n",
        "\n",
        "# Creating an instance of the WeekDaysIterator\n",
        "week_iterator = WeekDaysIterator();\n",
        "\n",
        "# Printing each day of the week using next()\n",
        "print(next(week_iterator));  # Monday\n",
        "print(next(week_iterator));  # Tuesday\n",
        "print(next(week_iterator));  # Wednesday\n",
        "print(next(week_iterator));  # Thursday\n",
        "print(next(week_iterator));  # Friday\n",
        "print(next(week_iterator));  # Saturday\n",
        "print(next(week_iterator));  # Sunday"
      ],
      "metadata": {
        "id": "cqx-g_RsLo6I",
        "colab": {
          "base_uri": "https://localhost:8080/"
        },
        "outputId": "13a8fc5a-cf91-4c83-94ca-9dabdccacce1"
      },
      "execution_count": 18,
      "outputs": [
        {
          "output_type": "stream",
          "name": "stdout",
          "text": [
            "Monday\n",
            "Tuesday\n",
            "Wednesday\n",
            "Thursday\n",
            "Friday\n",
            "Saturday\n",
            "Sunday\n"
          ]
        }
      ]
    },
    {
      "cell_type": "markdown",
      "source": [
        "# Вітаю! Ви велика(ий) молодець, що впоралась(вся). Похваліть себе та побалуйте чимось приємним. Я Вами пишаюся."
      ],
      "metadata": {
        "id": "Z3E3S_s1Fv7-"
      }
    }
  ]
}